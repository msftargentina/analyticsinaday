{
  "cells": [
    {
      "metadata": {
        "trusted": true
      },
      "cell_type": "code",
      "source": "!wget https://notebooks.azure.com/fasantia/projects/aml-neuralnetworks/raw/autos.csv",
      "execution_count": 1,
      "outputs": [
        {
          "output_type": "stream",
          "text": "--2019-05-06 12:51:07--  https://notebooks.azure.com/fasantia/projects/aml-neuralnetworks/raw/autos.csv\nResolving webproxy (webproxy)... 10.36.16.1\nConnecting to webproxy (webproxy)|10.36.16.1|:3128... connected.\nProxy request sent, awaiting response... 200 OK\nLength: 25350 (25K) [application/octet-stream]\nSaving to: ‘autos.csv.1’\n\nautos.csv.1         100%[===================>]  24.76K  --.-KB/s    in 0.01s   \n\n2019-05-06 12:51:07 (2.40 MB/s) - ‘autos.csv.1’ saved [25350/25350]\n\n",
          "name": "stdout"
        }
      ]
    },
    {
      "metadata": {
        "trusted": true
      },
      "cell_type": "code",
      "source": "import pandas as pd\n\ndf = pd.read_csv('autos.csv')",
      "execution_count": 2,
      "outputs": []
    },
    {
      "metadata": {
        "trusted": true
      },
      "cell_type": "code",
      "source": "df.head()",
      "execution_count": 3,
      "outputs": [
        {
          "output_type": "execute_result",
          "execution_count": 3,
          "data": {
            "text/html": "<div>\n<table border=\"1\" class=\"dataframe\">\n  <thead>\n    <tr style=\"text-align: right;\">\n      <th></th>\n      <th>symboling</th>\n      <th>normalized-losses</th>\n      <th>make-id</th>\n      <th>fuel-type</th>\n      <th>aspiration</th>\n      <th>num-of-doors</th>\n      <th>body-style</th>\n      <th>drive-wheels</th>\n      <th>engine-location</th>\n      <th>wheel-base</th>\n      <th>...</th>\n      <th>engine-size</th>\n      <th>fuel-system</th>\n      <th>bore</th>\n      <th>stroke</th>\n      <th>compression-ratio</th>\n      <th>horsepower</th>\n      <th>peak-rpm</th>\n      <th>city-mpg</th>\n      <th>highway-mpg</th>\n      <th>price</th>\n    </tr>\n  </thead>\n  <tbody>\n    <tr>\n      <th>0</th>\n      <td>3</td>\n      <td>NaN</td>\n      <td>1</td>\n      <td>gas</td>\n      <td>std</td>\n      <td>two</td>\n      <td>convertible</td>\n      <td>rwd</td>\n      <td>front</td>\n      <td>88.6</td>\n      <td>...</td>\n      <td>130</td>\n      <td>mpfi</td>\n      <td>3.47</td>\n      <td>2.68</td>\n      <td>9.0</td>\n      <td>111.0</td>\n      <td>5000.0</td>\n      <td>21</td>\n      <td>27</td>\n      <td>13495.0</td>\n    </tr>\n    <tr>\n      <th>1</th>\n      <td>3</td>\n      <td>NaN</td>\n      <td>1</td>\n      <td>gas</td>\n      <td>std</td>\n      <td>two</td>\n      <td>convertible</td>\n      <td>rwd</td>\n      <td>front</td>\n      <td>88.6</td>\n      <td>...</td>\n      <td>130</td>\n      <td>mpfi</td>\n      <td>3.47</td>\n      <td>2.68</td>\n      <td>9.0</td>\n      <td>111.0</td>\n      <td>5000.0</td>\n      <td>21</td>\n      <td>27</td>\n      <td>16500.0</td>\n    </tr>\n    <tr>\n      <th>2</th>\n      <td>1</td>\n      <td>NaN</td>\n      <td>1</td>\n      <td>gas</td>\n      <td>std</td>\n      <td>two</td>\n      <td>hatchback</td>\n      <td>rwd</td>\n      <td>front</td>\n      <td>94.5</td>\n      <td>...</td>\n      <td>152</td>\n      <td>mpfi</td>\n      <td>2.68</td>\n      <td>3.47</td>\n      <td>9.0</td>\n      <td>154.0</td>\n      <td>5000.0</td>\n      <td>19</td>\n      <td>26</td>\n      <td>16500.0</td>\n    </tr>\n    <tr>\n      <th>3</th>\n      <td>2</td>\n      <td>164.0</td>\n      <td>2</td>\n      <td>gas</td>\n      <td>std</td>\n      <td>four</td>\n      <td>sedan</td>\n      <td>fwd</td>\n      <td>front</td>\n      <td>99.8</td>\n      <td>...</td>\n      <td>109</td>\n      <td>mpfi</td>\n      <td>3.19</td>\n      <td>3.40</td>\n      <td>10.0</td>\n      <td>102.0</td>\n      <td>5500.0</td>\n      <td>24</td>\n      <td>30</td>\n      <td>13950.0</td>\n    </tr>\n    <tr>\n      <th>4</th>\n      <td>2</td>\n      <td>164.0</td>\n      <td>2</td>\n      <td>gas</td>\n      <td>std</td>\n      <td>four</td>\n      <td>sedan</td>\n      <td>4wd</td>\n      <td>front</td>\n      <td>99.4</td>\n      <td>...</td>\n      <td>136</td>\n      <td>mpfi</td>\n      <td>3.19</td>\n      <td>3.40</td>\n      <td>8.0</td>\n      <td>115.0</td>\n      <td>5500.0</td>\n      <td>18</td>\n      <td>22</td>\n      <td>17450.0</td>\n    </tr>\n  </tbody>\n</table>\n<p>5 rows × 26 columns</p>\n</div>",
            "text/plain": "   symboling  normalized-losses  make-id fuel-type aspiration num-of-doors  \\\n0          3                NaN        1       gas        std          two   \n1          3                NaN        1       gas        std          two   \n2          1                NaN        1       gas        std          two   \n3          2              164.0        2       gas        std         four   \n4          2              164.0        2       gas        std         four   \n\n    body-style drive-wheels engine-location  wheel-base   ...     engine-size  \\\n0  convertible          rwd           front        88.6   ...             130   \n1  convertible          rwd           front        88.6   ...             130   \n2    hatchback          rwd           front        94.5   ...             152   \n3        sedan          fwd           front        99.8   ...             109   \n4        sedan          4wd           front        99.4   ...             136   \n\n   fuel-system  bore  stroke compression-ratio horsepower  peak-rpm city-mpg  \\\n0         mpfi  3.47    2.68               9.0      111.0    5000.0       21   \n1         mpfi  3.47    2.68               9.0      111.0    5000.0       21   \n2         mpfi  2.68    3.47               9.0      154.0    5000.0       19   \n3         mpfi  3.19    3.40              10.0      102.0    5500.0       24   \n4         mpfi  3.19    3.40               8.0      115.0    5500.0       18   \n\n   highway-mpg    price  \n0           27  13495.0  \n1           27  16500.0  \n2           26  16500.0  \n3           30  13950.0  \n4           22  17450.0  \n\n[5 rows x 26 columns]"
          },
          "metadata": {}
        }
      ]
    },
    {
      "metadata": {},
      "cell_type": "markdown",
      "source": "# Solving Autos Dataset with Sklearn in Jupyter Notebooks\n\nA lovely aspects of Notebooks is that you can use Markdown cells to explain what the code is doing rather than code comments. There are several benefits to doing so:\n\n<ul>\n<li>Markdown allows for richer text formatting, like <em>italics</em>, <strong>bold</strong>, <code>inline code</code>, hyperlinks, and headers.</li>\n<li>Markdown cells automatically word wrap whereas code cells do not. Code comments typically use explicit line breaks for formatting, but that's not necessary in Markdown.</li>\n<li>Using Markdown cells makes it easier to run the Notebook as a slide show.</li>\n<li>Markdown cells help you remove lengthy comments from the code, making the code easier to scan.</li>\n</ul>"
    },
    {
      "metadata": {},
      "cell_type": "markdown",
      "source": "## Install packages using pip or conda\nBecause the code in your notebook likely uses some Python packages, you need to make sure the Notebook environment contains those packages. You can do this directly within the notebook in a code block that contains the appropriate pip or conda commands prefixed by !:\n\n```\n!pip install  \n```\n\nThis present notebook requires numpy, matplotlib, pandas, and sklearn. Because these packages are already included in Azure Notebooks, the following commands are commented out but are included to clearly note the dependencies."
    },
    {
      "metadata": {
        "trusted": false
      },
      "cell_type": "code",
      "source": "!pip install numpy\n!pip install matplotlib\n!pip install pandas\n!pip install sklearn",
      "execution_count": 2,
      "outputs": [
        {
          "output_type": "stream",
          "name": "stdout",
          "text": "Requirement already satisfied: numpy in /home/nbuser/anaconda3_23/lib/python3.4/site-packages\n\u001b[33mYou are using pip version 19.0.3, however version 19.1 is available.\nYou should consider upgrading via the 'pip install --upgrade pip' command.\u001b[0m\nRequirement already satisfied: matplotlib in /home/nbuser/anaconda3_23/lib/python3.4/site-packages\nRequirement already satisfied: numpy>=1.6 in /home/nbuser/anaconda3_23/lib/python3.4/site-packages (from matplotlib)\nRequirement already satisfied: python-dateutil in /home/nbuser/anaconda3_23/lib/python3.4/site-packages (from matplotlib)\nRequirement already satisfied: pytz in /home/nbuser/anaconda3_23/lib/python3.4/site-packages (from matplotlib)\nRequirement already satisfied: cycler in /home/nbuser/anaconda3_23/lib/python3.4/site-packages (from matplotlib)\nRequirement already satisfied: pyparsing!=2.0.4,>=1.5.6 in /home/nbuser/anaconda3_23/lib/python3.4/site-packages (from matplotlib)\nRequirement already satisfied: six>=1.5 in /home/nbuser/anaconda3_23/lib/python3.4/site-packages (from python-dateutil->matplotlib)\n\u001b[33mYou are using pip version 19.0.3, however version 19.1 is available.\nYou should consider upgrading via the 'pip install --upgrade pip' command.\u001b[0m\nRequirement already satisfied: pandas in /home/nbuser/anaconda3_23/lib/python3.4/site-packages\nRequirement already satisfied: python-dateutil>=2 in /home/nbuser/anaconda3_23/lib/python3.4/site-packages (from pandas)\nRequirement already satisfied: pytz>=2011k in /home/nbuser/anaconda3_23/lib/python3.4/site-packages (from pandas)\nRequirement already satisfied: numpy>=1.7.0 in /home/nbuser/anaconda3_23/lib/python3.4/site-packages (from pandas)\nRequirement already satisfied: six>=1.5 in /home/nbuser/anaconda3_23/lib/python3.4/site-packages (from python-dateutil>=2->pandas)\n\u001b[33mYou are using pip version 19.0.3, however version 19.1 is available.\nYou should consider upgrading via the 'pip install --upgrade pip' command.\u001b[0m\nCollecting sklearn\n  Downloading https://files.pythonhosted.org/packages/1e/7a/dbb3be0ce9bd5c8b7e3d87328e79063f8b263b2b1bfa4774cb1147bfcd3f/sklearn-0.0.tar.gz\nRequirement already satisfied: scikit-learn in /home/nbuser/anaconda3_23/lib/python3.4/site-packages (from sklearn)\nBuilding wheels for collected packages: sklearn\n  Running setup.py bdist_wheel for sklearn ... \u001b[?25ldone\n\u001b[?25h  Stored in directory: /home/nbuser/.cache/pip/wheels/76/03/bb/589d421d27431bcd2c6da284d5f2286c8e3b2ea3cf1594c074\nSuccessfully built sklearn\nInstalling collected packages: sklearn\nSuccessfully installed sklearn-0.0\n\u001b[33mYou are using pip version 19.0.3, however version 19.1 is available.\nYou should consider upgrading via the 'pip install --upgrade pip' command.\u001b[0m\n"
        }
      ]
    },
    {
      "metadata": {},
      "cell_type": "markdown",
      "source": "In this example we're using numpy, pandas, and matplotlib. "
    },
    {
      "metadata": {
        "trusted": false
      },
      "cell_type": "code",
      "source": "import numpy as np\nimport pandas as pd",
      "execution_count": 25,
      "outputs": []
    },
    {
      "metadata": {
        "trusted": true
      },
      "cell_type": "code",
      "source": "obj_df = df.select_dtypes(include=['object']).copy()\nobj_df.head()\n\ncolumns = list(obj_df.columns.values)\n\nfor col in columns:\n    df[col] = df[col].factorize()[0]\n    \ndf.dropna(inplace=True)",
      "execution_count": null,
      "outputs": []
    },
    {
      "metadata": {
        "trusted": false
      },
      "cell_type": "code",
      "source": "X = df.drop('price', axis=1)\ny = df['price']",
      "execution_count": 30,
      "outputs": []
    },
    {
      "metadata": {},
      "cell_type": "markdown",
      "source": "Next, split the dataset into a Training set (2/3rds) and Test set (1/3rd). We don't need to do any feature scaling because there is only one column of independent variables, and libraries typically do scaling for you."
    },
    {
      "metadata": {
        "trusted": false
      },
      "cell_type": "code",
      "source": "from sklearn.model_selection import train_test_split\n\nX_train, X_test, y_train, y_test = train_test_split(X, y, test_size = 1/3, random_state = 0)",
      "execution_count": 31,
      "outputs": []
    },
    {
      "metadata": {},
      "cell_type": "markdown",
      "source": "## Fit the data to the training set\n\"Fitting\" the data to a training set means making the line that describes the relationship between the independent and the dependent variables. Fitting the data means plotting all the points in the training set, then drawing the best-fit line through that data.\n\nThe regressor's fit method here creates the line, which algebraically is of the form y = x*b1 + b0, where b1 is the coefficient or slope of the line (which you can get to through regressor.coef_), and b0 is the intercept of the line at x=0 (which you can get to through regressor.intercept)."
    },
    {
      "metadata": {
        "trusted": false
      },
      "cell_type": "code",
      "source": "from sklearn.neural_network import MLPRegressor\n\nmlp = MLPRegressor(hidden_layer_sizes=(5,),\n                                       activation='relu',\n                                       solver='adam',\n                                       learning_rate='adaptive',\n                                       max_iter=1000,\n                                       learning_rate_init=0.01,\n                                       alpha=0.01,\n                                       random = 1234)\n\nmlp_regr = mlp.fit(X_train, y_train)",
      "execution_count": 103,
      "outputs": [
        {
          "execution_count": 103,
          "output_type": "execute_result",
          "data": {
            "text/plain": "LinearRegression(copy_X=True, fit_intercept=True, n_jobs=1, normalize=False)"
          },
          "metadata": {}
        }
      ]
    },
    {
      "metadata": {
        "trusted": true
      },
      "cell_type": "code",
      "source": "from sklearn.metrics import r2_score\n\ny_pred_mlp = mlp_regr.predict(X_test)\nr2_score(y_test, y_pred_mlp) ",
      "execution_count": null,
      "outputs": []
    }
  ],
  "metadata": {
    "kernelspec": {
      "name": "python3",
      "display_name": "Python 3",
      "language": "python"
    },
    "language_info": {
      "mimetype": "text/x-python",
      "nbconvert_exporter": "python",
      "name": "python",
      "pygments_lexer": "ipython3",
      "version": "3.5.4",
      "file_extension": ".py",
      "codemirror_mode": {
        "version": 3,
        "name": "ipython"
      }
    }
  },
  "nbformat": 4,
  "nbformat_minor": 1
}